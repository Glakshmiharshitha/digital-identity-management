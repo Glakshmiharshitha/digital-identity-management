{
 "cells": [
  {
   "cell_type": "code",
   "execution_count": 5,
   "id": "87e6272a",
   "metadata": {},
   "outputs": [
    {
     "name": "stdout",
     "output_type": "stream",
     "text": [
      "Enter your password: StrongPassword123\n",
      "Expected hash: 6d1ba55e66d884cdc91235f53cd0b300938a306d6bac94e4671a9b7cb73b7b9a\n",
      "Entered password hash: 6d1ba55e66d884cdc91235f53cd0b300938a306d6bac94e4671a9b7cb73b7b9a\n",
      "Login successful. Welcome, Alice!\n",
      "Digital Identity Token: ydwzghc31vpf6bl8\n"
     ]
    }
   ],
   "source": [
    "import hashlib\n",
    "import random\n",
    "\n",
    "class User:\n",
    "    def __init__(self, username, password):\n",
    "        self.username = username\n",
    "        self.password = self.hash_password(password)\n",
    "        self.digital_id = None\n",
    "\n",
    "    def hash_password(self, password):\n",
    "        \n",
    "        digest = hashlib.sha256(password.encode()).hexdigest()\n",
    "        return digest\n",
    "\n",
    "class DigitalIdentity:\n",
    "    def __init__(self, user):\n",
    "        self.user = user\n",
    "        self.token = None\n",
    "\n",
    "    def generate_token(self):\n",
    "        \n",
    "        random.seed()\n",
    "        token = ''.join(random.choices('abcdefghijklmnopqrstuvwxyz0123456789', k=16))\n",
    "        self.token = token\n",
    "\n",
    "def secure_authentication(user, entered_password):\n",
    "    \n",
    "    entered_password_hash = hashlib.sha256(entered_password.encode()).hexdigest()\n",
    "    print(f\"Expected hash: {user.password}\")  \n",
    "    print(f\"Entered password hash: {entered_password_hash}\")  \n",
    "    return user.password == entered_password_hash\n",
    "\n",
    "\n",
    "if __name__ == \"__main__\":\n",
    "    \n",
    "    alice = User(\"Alice\", \"StrongPassword123\")\n",
    "    alice_digital_identity = DigitalIdentity(alice)\n",
    "    alice_digital_identity.generate_token()\n",
    "\n",
    "    \n",
    "    entered_password = input(\"Enter your password: \").strip()  \n",
    "\n",
    "    if secure_authentication(alice, entered_password):\n",
    "        print(\"Login successful. Welcome, {}!\".format(alice.username))\n",
    "        \n",
    "        if alice_digital_identity.token:\n",
    "            print(\"Digital Identity Token:\", alice_digital_identity.token)\n",
    "        else:\n",
    "            print(\"No digital identity token available.\")\n",
    "    else:\n",
    "        print(\"Login failed. Incorrect password.\")\n"
   ]
  },
  {
   "cell_type": "code",
   "execution_count": null,
   "id": "cc322d6d",
   "metadata": {},
   "outputs": [],
   "source": []
  }
 ],
 "metadata": {
  "kernelspec": {
   "display_name": "Python 3 (ipykernel)",
   "language": "python",
   "name": "python3"
  },
  "language_info": {
   "codemirror_mode": {
    "name": "ipython",
    "version": 3
   },
   "file_extension": ".py",
   "mimetype": "text/x-python",
   "name": "python",
   "nbconvert_exporter": "python",
   "pygments_lexer": "ipython3",
   "version": "3.9.13"
  }
 },
 "nbformat": 4,
 "nbformat_minor": 5
}
